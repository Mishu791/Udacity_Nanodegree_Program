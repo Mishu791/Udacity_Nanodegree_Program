{
 "cells": [
  {
   "cell_type": "markdown",
   "metadata": {},
   "source": [
    "### About the Dataset \n",
    "This dataset is from Bureau of Transportation Statistics. It tracks the on time performance of domestic flights operated by large air carriers. The dataset is for each year and can be downloaded directly from their website. The description is posted on their website in detail.\n",
    "\n",
    "For this data analysis, we will be using data for the years of 2007 and 2008."
   ]
  },
  {
   "cell_type": "markdown",
   "metadata": {},
   "source": [
    "### Wrangling of Dataset "
   ]
  },
  {
   "cell_type": "code",
   "execution_count": 1,
   "metadata": {},
   "outputs": [],
   "source": [
    "#importing all libraries needed \n",
    "import numpy as np\n",
    "import pandas as pd\n",
    "import matplotlib.pyplot as plt\n",
    "import seaborn as sb\n",
    "import requests\n",
    "import matplotlib.patches as mpatches\n",
    "from sklearn.linear_model import LinearRegression\n",
    "from sklearn.preprocessing import PolynomialFeatures \n",
    "\n",
    "%matplotlib inline"
   ]
  },
  {
   "cell_type": "code",
   "execution_count": 2,
   "metadata": {},
   "outputs": [],
   "source": [
    "# load in the dataset into a pandas dataframe\n",
    "df_2008 = pd.read_csv('2008.csv')\n",
    "df_2007 = pd.read_csv('2007.csv')"
   ]
  },
  {
   "cell_type": "code",
   "execution_count": 3,
   "metadata": {},
   "outputs": [],
   "source": [
    "df_data=df_2007.append([df_2008])"
   ]
  },
  {
   "cell_type": "code",
   "execution_count": 4,
   "metadata": {},
   "outputs": [
    {
     "name": "stdout",
     "output_type": "stream",
     "text": [
      "(9842432, 29)\n"
     ]
    }
   ],
   "source": [
    "print(df_data.shape)"
   ]
  },
  {
   "cell_type": "code",
   "execution_count": 5,
   "metadata": {},
   "outputs": [],
   "source": [
    "# df_data.to_csv('final.csv') "
   ]
  },
  {
   "cell_type": "code",
   "execution_count": 2,
   "metadata": {},
   "outputs": [],
   "source": [
    "df = pd.read_csv('final.csv')"
   ]
  },
  {
   "cell_type": "code",
   "execution_count": 3,
   "metadata": {},
   "outputs": [
    {
     "data": {
      "text/plain": [
       "(9842432, 30)"
      ]
     },
     "execution_count": 3,
     "metadata": {},
     "output_type": "execute_result"
    }
   ],
   "source": [
    "df.shape"
   ]
  },
  {
   "cell_type": "code",
   "execution_count": 4,
   "metadata": {},
   "outputs": [
    {
     "data": {
      "text/html": [
       "<div>\n",
       "<style scoped>\n",
       "    .dataframe tbody tr th:only-of-type {\n",
       "        vertical-align: middle;\n",
       "    }\n",
       "\n",
       "    .dataframe tbody tr th {\n",
       "        vertical-align: top;\n",
       "    }\n",
       "\n",
       "    .dataframe thead th {\n",
       "        text-align: right;\n",
       "    }\n",
       "</style>\n",
       "<table border=\"1\" class=\"dataframe\">\n",
       "  <thead>\n",
       "    <tr style=\"text-align: right;\">\n",
       "      <th></th>\n",
       "      <th>Unnamed: 0</th>\n",
       "      <th>Year</th>\n",
       "      <th>Month</th>\n",
       "      <th>DayofMonth</th>\n",
       "      <th>DayOfWeek</th>\n",
       "      <th>DepTime</th>\n",
       "      <th>CRSDepTime</th>\n",
       "      <th>ArrTime</th>\n",
       "      <th>CRSArrTime</th>\n",
       "      <th>UniqueCarrier</th>\n",
       "      <th>...</th>\n",
       "      <th>TaxiIn</th>\n",
       "      <th>TaxiOut</th>\n",
       "      <th>Cancelled</th>\n",
       "      <th>CancellationCode</th>\n",
       "      <th>Diverted</th>\n",
       "      <th>CarrierDelay</th>\n",
       "      <th>WeatherDelay</th>\n",
       "      <th>NASDelay</th>\n",
       "      <th>SecurityDelay</th>\n",
       "      <th>LateAircraftDelay</th>\n",
       "    </tr>\n",
       "  </thead>\n",
       "  <tbody>\n",
       "    <tr>\n",
       "      <th>0</th>\n",
       "      <td>0</td>\n",
       "      <td>2007</td>\n",
       "      <td>1</td>\n",
       "      <td>1</td>\n",
       "      <td>1</td>\n",
       "      <td>1232.0</td>\n",
       "      <td>1225</td>\n",
       "      <td>1341.0</td>\n",
       "      <td>1340</td>\n",
       "      <td>WN</td>\n",
       "      <td>...</td>\n",
       "      <td>4.0</td>\n",
       "      <td>11.0</td>\n",
       "      <td>0</td>\n",
       "      <td>NaN</td>\n",
       "      <td>0</td>\n",
       "      <td>0.0</td>\n",
       "      <td>0.0</td>\n",
       "      <td>0.0</td>\n",
       "      <td>0.0</td>\n",
       "      <td>0.0</td>\n",
       "    </tr>\n",
       "    <tr>\n",
       "      <th>1</th>\n",
       "      <td>1</td>\n",
       "      <td>2007</td>\n",
       "      <td>1</td>\n",
       "      <td>1</td>\n",
       "      <td>1</td>\n",
       "      <td>1918.0</td>\n",
       "      <td>1905</td>\n",
       "      <td>2043.0</td>\n",
       "      <td>2035</td>\n",
       "      <td>WN</td>\n",
       "      <td>...</td>\n",
       "      <td>5.0</td>\n",
       "      <td>6.0</td>\n",
       "      <td>0</td>\n",
       "      <td>NaN</td>\n",
       "      <td>0</td>\n",
       "      <td>0.0</td>\n",
       "      <td>0.0</td>\n",
       "      <td>0.0</td>\n",
       "      <td>0.0</td>\n",
       "      <td>0.0</td>\n",
       "    </tr>\n",
       "    <tr>\n",
       "      <th>2</th>\n",
       "      <td>2</td>\n",
       "      <td>2007</td>\n",
       "      <td>1</td>\n",
       "      <td>1</td>\n",
       "      <td>1</td>\n",
       "      <td>2206.0</td>\n",
       "      <td>2130</td>\n",
       "      <td>2334.0</td>\n",
       "      <td>2300</td>\n",
       "      <td>WN</td>\n",
       "      <td>...</td>\n",
       "      <td>6.0</td>\n",
       "      <td>9.0</td>\n",
       "      <td>0</td>\n",
       "      <td>NaN</td>\n",
       "      <td>0</td>\n",
       "      <td>3.0</td>\n",
       "      <td>0.0</td>\n",
       "      <td>0.0</td>\n",
       "      <td>0.0</td>\n",
       "      <td>31.0</td>\n",
       "    </tr>\n",
       "    <tr>\n",
       "      <th>3</th>\n",
       "      <td>3</td>\n",
       "      <td>2007</td>\n",
       "      <td>1</td>\n",
       "      <td>1</td>\n",
       "      <td>1</td>\n",
       "      <td>1230.0</td>\n",
       "      <td>1200</td>\n",
       "      <td>1356.0</td>\n",
       "      <td>1330</td>\n",
       "      <td>WN</td>\n",
       "      <td>...</td>\n",
       "      <td>3.0</td>\n",
       "      <td>8.0</td>\n",
       "      <td>0</td>\n",
       "      <td>NaN</td>\n",
       "      <td>0</td>\n",
       "      <td>23.0</td>\n",
       "      <td>0.0</td>\n",
       "      <td>0.0</td>\n",
       "      <td>0.0</td>\n",
       "      <td>3.0</td>\n",
       "    </tr>\n",
       "    <tr>\n",
       "      <th>4</th>\n",
       "      <td>4</td>\n",
       "      <td>2007</td>\n",
       "      <td>1</td>\n",
       "      <td>1</td>\n",
       "      <td>1</td>\n",
       "      <td>831.0</td>\n",
       "      <td>830</td>\n",
       "      <td>957.0</td>\n",
       "      <td>1000</td>\n",
       "      <td>WN</td>\n",
       "      <td>...</td>\n",
       "      <td>3.0</td>\n",
       "      <td>9.0</td>\n",
       "      <td>0</td>\n",
       "      <td>NaN</td>\n",
       "      <td>0</td>\n",
       "      <td>0.0</td>\n",
       "      <td>0.0</td>\n",
       "      <td>0.0</td>\n",
       "      <td>0.0</td>\n",
       "      <td>0.0</td>\n",
       "    </tr>\n",
       "  </tbody>\n",
       "</table>\n",
       "<p>5 rows × 30 columns</p>\n",
       "</div>"
      ],
      "text/plain": [
       "   Unnamed: 0  Year  Month  DayofMonth  DayOfWeek  DepTime  CRSDepTime  \\\n",
       "0           0  2007      1           1          1   1232.0        1225   \n",
       "1           1  2007      1           1          1   1918.0        1905   \n",
       "2           2  2007      1           1          1   2206.0        2130   \n",
       "3           3  2007      1           1          1   1230.0        1200   \n",
       "4           4  2007      1           1          1    831.0         830   \n",
       "\n",
       "   ArrTime  CRSArrTime UniqueCarrier  ...  TaxiIn TaxiOut  Cancelled  \\\n",
       "0   1341.0        1340            WN  ...     4.0    11.0          0   \n",
       "1   2043.0        2035            WN  ...     5.0     6.0          0   \n",
       "2   2334.0        2300            WN  ...     6.0     9.0          0   \n",
       "3   1356.0        1330            WN  ...     3.0     8.0          0   \n",
       "4    957.0        1000            WN  ...     3.0     9.0          0   \n",
       "\n",
       "   CancellationCode  Diverted  CarrierDelay  WeatherDelay NASDelay  \\\n",
       "0               NaN         0           0.0           0.0      0.0   \n",
       "1               NaN         0           0.0           0.0      0.0   \n",
       "2               NaN         0           3.0           0.0      0.0   \n",
       "3               NaN         0          23.0           0.0      0.0   \n",
       "4               NaN         0           0.0           0.0      0.0   \n",
       "\n",
       "  SecurityDelay  LateAircraftDelay  \n",
       "0           0.0                0.0  \n",
       "1           0.0                0.0  \n",
       "2           0.0               31.0  \n",
       "3           0.0                3.0  \n",
       "4           0.0                0.0  \n",
       "\n",
       "[5 rows x 30 columns]"
      ]
     },
     "execution_count": 4,
     "metadata": {},
     "output_type": "execute_result"
    }
   ],
   "source": [
    "df.head()"
   ]
  },
  {
   "cell_type": "code",
   "execution_count": 5,
   "metadata": {},
   "outputs": [
    {
     "data": {
      "text/html": [
       "<div>\n",
       "<style scoped>\n",
       "    .dataframe tbody tr th:only-of-type {\n",
       "        vertical-align: middle;\n",
       "    }\n",
       "\n",
       "    .dataframe tbody tr th {\n",
       "        vertical-align: top;\n",
       "    }\n",
       "\n",
       "    .dataframe thead th {\n",
       "        text-align: right;\n",
       "    }\n",
       "</style>\n",
       "<table border=\"1\" class=\"dataframe\">\n",
       "  <thead>\n",
       "    <tr style=\"text-align: right;\">\n",
       "      <th></th>\n",
       "      <th>Year</th>\n",
       "      <th>Month</th>\n",
       "      <th>DayofMonth</th>\n",
       "      <th>DayOfWeek</th>\n",
       "      <th>DepTime</th>\n",
       "      <th>CRSDepTime</th>\n",
       "      <th>ArrTime</th>\n",
       "      <th>CRSArrTime</th>\n",
       "      <th>UniqueCarrier</th>\n",
       "      <th>FlightNum</th>\n",
       "      <th>...</th>\n",
       "      <th>TaxiIn</th>\n",
       "      <th>TaxiOut</th>\n",
       "      <th>Cancelled</th>\n",
       "      <th>CancellationCode</th>\n",
       "      <th>Diverted</th>\n",
       "      <th>CarrierDelay</th>\n",
       "      <th>WeatherDelay</th>\n",
       "      <th>NASDelay</th>\n",
       "      <th>SecurityDelay</th>\n",
       "      <th>LateAircraftDelay</th>\n",
       "    </tr>\n",
       "  </thead>\n",
       "  <tbody>\n",
       "    <tr>\n",
       "      <th>0</th>\n",
       "      <td>2007</td>\n",
       "      <td>1</td>\n",
       "      <td>1</td>\n",
       "      <td>1</td>\n",
       "      <td>1232.0</td>\n",
       "      <td>1225</td>\n",
       "      <td>1341.0</td>\n",
       "      <td>1340</td>\n",
       "      <td>WN</td>\n",
       "      <td>2891</td>\n",
       "      <td>...</td>\n",
       "      <td>4.0</td>\n",
       "      <td>11.0</td>\n",
       "      <td>0</td>\n",
       "      <td>NaN</td>\n",
       "      <td>0</td>\n",
       "      <td>0.0</td>\n",
       "      <td>0.0</td>\n",
       "      <td>0.0</td>\n",
       "      <td>0.0</td>\n",
       "      <td>0.0</td>\n",
       "    </tr>\n",
       "    <tr>\n",
       "      <th>1</th>\n",
       "      <td>2007</td>\n",
       "      <td>1</td>\n",
       "      <td>1</td>\n",
       "      <td>1</td>\n",
       "      <td>1918.0</td>\n",
       "      <td>1905</td>\n",
       "      <td>2043.0</td>\n",
       "      <td>2035</td>\n",
       "      <td>WN</td>\n",
       "      <td>462</td>\n",
       "      <td>...</td>\n",
       "      <td>5.0</td>\n",
       "      <td>6.0</td>\n",
       "      <td>0</td>\n",
       "      <td>NaN</td>\n",
       "      <td>0</td>\n",
       "      <td>0.0</td>\n",
       "      <td>0.0</td>\n",
       "      <td>0.0</td>\n",
       "      <td>0.0</td>\n",
       "      <td>0.0</td>\n",
       "    </tr>\n",
       "    <tr>\n",
       "      <th>2</th>\n",
       "      <td>2007</td>\n",
       "      <td>1</td>\n",
       "      <td>1</td>\n",
       "      <td>1</td>\n",
       "      <td>2206.0</td>\n",
       "      <td>2130</td>\n",
       "      <td>2334.0</td>\n",
       "      <td>2300</td>\n",
       "      <td>WN</td>\n",
       "      <td>1229</td>\n",
       "      <td>...</td>\n",
       "      <td>6.0</td>\n",
       "      <td>9.0</td>\n",
       "      <td>0</td>\n",
       "      <td>NaN</td>\n",
       "      <td>0</td>\n",
       "      <td>3.0</td>\n",
       "      <td>0.0</td>\n",
       "      <td>0.0</td>\n",
       "      <td>0.0</td>\n",
       "      <td>31.0</td>\n",
       "    </tr>\n",
       "    <tr>\n",
       "      <th>3</th>\n",
       "      <td>2007</td>\n",
       "      <td>1</td>\n",
       "      <td>1</td>\n",
       "      <td>1</td>\n",
       "      <td>1230.0</td>\n",
       "      <td>1200</td>\n",
       "      <td>1356.0</td>\n",
       "      <td>1330</td>\n",
       "      <td>WN</td>\n",
       "      <td>1355</td>\n",
       "      <td>...</td>\n",
       "      <td>3.0</td>\n",
       "      <td>8.0</td>\n",
       "      <td>0</td>\n",
       "      <td>NaN</td>\n",
       "      <td>0</td>\n",
       "      <td>23.0</td>\n",
       "      <td>0.0</td>\n",
       "      <td>0.0</td>\n",
       "      <td>0.0</td>\n",
       "      <td>3.0</td>\n",
       "    </tr>\n",
       "    <tr>\n",
       "      <th>4</th>\n",
       "      <td>2007</td>\n",
       "      <td>1</td>\n",
       "      <td>1</td>\n",
       "      <td>1</td>\n",
       "      <td>831.0</td>\n",
       "      <td>830</td>\n",
       "      <td>957.0</td>\n",
       "      <td>1000</td>\n",
       "      <td>WN</td>\n",
       "      <td>2278</td>\n",
       "      <td>...</td>\n",
       "      <td>3.0</td>\n",
       "      <td>9.0</td>\n",
       "      <td>0</td>\n",
       "      <td>NaN</td>\n",
       "      <td>0</td>\n",
       "      <td>0.0</td>\n",
       "      <td>0.0</td>\n",
       "      <td>0.0</td>\n",
       "      <td>0.0</td>\n",
       "      <td>0.0</td>\n",
       "    </tr>\n",
       "  </tbody>\n",
       "</table>\n",
       "<p>5 rows × 29 columns</p>\n",
       "</div>"
      ],
      "text/plain": [
       "   Year  Month  DayofMonth  DayOfWeek  DepTime  CRSDepTime  ArrTime  \\\n",
       "0  2007      1           1          1   1232.0        1225   1341.0   \n",
       "1  2007      1           1          1   1918.0        1905   2043.0   \n",
       "2  2007      1           1          1   2206.0        2130   2334.0   \n",
       "3  2007      1           1          1   1230.0        1200   1356.0   \n",
       "4  2007      1           1          1    831.0         830    957.0   \n",
       "\n",
       "   CRSArrTime UniqueCarrier  FlightNum  ... TaxiIn  TaxiOut  Cancelled  \\\n",
       "0        1340            WN       2891  ...    4.0     11.0          0   \n",
       "1        2035            WN        462  ...    5.0      6.0          0   \n",
       "2        2300            WN       1229  ...    6.0      9.0          0   \n",
       "3        1330            WN       1355  ...    3.0      8.0          0   \n",
       "4        1000            WN       2278  ...    3.0      9.0          0   \n",
       "\n",
       "   CancellationCode  Diverted  CarrierDelay WeatherDelay NASDelay  \\\n",
       "0               NaN         0           0.0          0.0      0.0   \n",
       "1               NaN         0           0.0          0.0      0.0   \n",
       "2               NaN         0           3.0          0.0      0.0   \n",
       "3               NaN         0          23.0          0.0      0.0   \n",
       "4               NaN         0           0.0          0.0      0.0   \n",
       "\n",
       "   SecurityDelay  LateAircraftDelay  \n",
       "0            0.0                0.0  \n",
       "1            0.0                0.0  \n",
       "2            0.0               31.0  \n",
       "3            0.0                3.0  \n",
       "4            0.0                0.0  \n",
       "\n",
       "[5 rows x 29 columns]"
      ]
     },
     "execution_count": 5,
     "metadata": {},
     "output_type": "execute_result"
    }
   ],
   "source": [
    "df.drop([\"Unnamed: 0\"], axis='columns', inplace=True)\n",
    "df.head()"
   ]
  },
  {
   "cell_type": "code",
   "execution_count": 6,
   "metadata": {},
   "outputs": [
    {
     "name": "stdout",
     "output_type": "stream",
     "text": [
      "Year                   int64\n",
      "Month                  int64\n",
      "DayofMonth             int64\n",
      "DayOfWeek              int64\n",
      "DepTime              float64\n",
      "CRSDepTime             int64\n",
      "ArrTime              float64\n",
      "CRSArrTime             int64\n",
      "UniqueCarrier         object\n",
      "FlightNum              int64\n",
      "TailNum               object\n",
      "ActualElapsedTime    float64\n",
      "CRSElapsedTime       float64\n",
      "AirTime              float64\n",
      "ArrDelay             float64\n",
      "DepDelay             float64\n",
      "Origin                object\n",
      "Dest                  object\n",
      "Distance               int64\n",
      "TaxiIn               float64\n",
      "TaxiOut              float64\n",
      "Cancelled              int64\n",
      "CancellationCode      object\n",
      "Diverted               int64\n",
      "CarrierDelay         float64\n",
      "WeatherDelay         float64\n",
      "NASDelay             float64\n",
      "SecurityDelay        float64\n",
      "LateAircraftDelay    float64\n",
      "dtype: object\n",
      "<bound method NDFrame.describe of          Year  Month  DayofMonth  DayOfWeek  DepTime  CRSDepTime  ArrTime  \\\n",
      "0        2007      1           1          1   1232.0        1225   1341.0   \n",
      "1        2007      1           1          1   1918.0        1905   2043.0   \n",
      "2        2007      1           1          1   2206.0        2130   2334.0   \n",
      "3        2007      1           1          1   1230.0        1200   1356.0   \n",
      "4        2007      1           1          1    831.0         830    957.0   \n",
      "...       ...    ...         ...        ...      ...         ...      ...   \n",
      "9842427  2008      4          17          4   1025.0        1025   1234.0   \n",
      "9842428  2008      4          17          4   1319.0        1320   1527.0   \n",
      "9842429  2008      4          17          4   1335.0        1335   1556.0   \n",
      "9842430  2008      4          17          4   1933.0        1935   2140.0   \n",
      "9842431  2008      4          17          4    621.0         615    752.0   \n",
      "\n",
      "         CRSArrTime UniqueCarrier  FlightNum  ... TaxiIn  TaxiOut  Cancelled  \\\n",
      "0              1340            WN       2891  ...    4.0     11.0          0   \n",
      "1              2035            WN        462  ...    5.0      6.0          0   \n",
      "2              2300            WN       1229  ...    6.0      9.0          0   \n",
      "3              1330            WN       1355  ...    3.0      8.0          0   \n",
      "4              1000            WN       2278  ...    3.0      9.0          0   \n",
      "...             ...           ...        ...  ...    ...      ...        ...   \n",
      "9842427        1237            DL       1207  ...    5.0     16.0          0   \n",
      "9842428        1524            DL       1208  ...    9.0     12.0          0   \n",
      "9842429        1553            DL       1209  ...    7.0     31.0          0   \n",
      "9842430        2141            DL       1210  ...    9.0     12.0          0   \n",
      "9842431         754            DL       1211  ...   15.0     12.0          0   \n",
      "\n",
      "         CancellationCode  Diverted  CarrierDelay WeatherDelay NASDelay  \\\n",
      "0                     NaN         0           0.0          0.0      0.0   \n",
      "1                     NaN         0           0.0          0.0      0.0   \n",
      "2                     NaN         0           3.0          0.0      0.0   \n",
      "3                     NaN         0          23.0          0.0      0.0   \n",
      "4                     NaN         0           0.0          0.0      0.0   \n",
      "...                   ...       ...           ...          ...      ...   \n",
      "9842427               NaN         0           NaN          NaN      NaN   \n",
      "9842428               NaN         0           NaN          NaN      NaN   \n",
      "9842429               NaN         0           NaN          NaN      NaN   \n",
      "9842430               NaN         0           NaN          NaN      NaN   \n",
      "9842431               NaN         0           NaN          NaN      NaN   \n",
      "\n",
      "         SecurityDelay  LateAircraftDelay  \n",
      "0                  0.0                0.0  \n",
      "1                  0.0                0.0  \n",
      "2                  0.0               31.0  \n",
      "3                  0.0                3.0  \n",
      "4                  0.0                0.0  \n",
      "...                ...                ...  \n",
      "9842427            NaN                NaN  \n",
      "9842428            NaN                NaN  \n",
      "9842429            NaN                NaN  \n",
      "9842430            NaN                NaN  \n",
      "9842431            NaN                NaN  \n",
      "\n",
      "[9842432 rows x 29 columns]>\n"
     ]
    }
   ],
   "source": [
    "print(df.dtypes)\n",
    "print(df.describe)"
   ]
  },
  {
   "cell_type": "markdown",
   "metadata": {},
   "source": [
    "### What's the structure of the dataset ?\n",
    "The dataset has 29 columns and 9842432 rows.\n",
    "\n",
    "### What is/are the main feature(s) of interest in the dataset?\n",
    "The main features are; the factors affecting the delays and cncellations of the flights. These factors will help us to determine the time performace and characteristics of flights of different destinations. \n",
    "\n",
    "### What features in the dataset will help to support the investigation into the feature(s) of interest?\n",
    "The main features of interest of the dataset are the factors which are involved in delaying arrival and departure (in time, minutes), cancellation codes and reasons. Also an effort will be undergone for spotting any correlation between parameters."
   ]
  },
  {
   "cell_type": "markdown",
   "metadata": {},
   "source": [
    "## Univariate Exploration"
   ]
  },
  {
   "cell_type": "code",
   "execution_count": 7,
   "metadata": {},
   "outputs": [
    {
     "data": {
      "text/plain": [
       "[nan, 'A', 'B', 'C', 'D']"
      ]
     },
     "execution_count": 7,
     "metadata": {},
     "output_type": "execute_result"
    }
   ],
   "source": [
    "df['CancellationCode'].unique().tolist()"
   ]
  },
  {
   "cell_type": "code",
   "execution_count": 8,
   "metadata": {},
   "outputs": [
    {
     "data": {
      "image/png": "[encoded data removed]",
      "text/plain": [
       "<Figure size 432x288 with 1 Axes>"
      ]
     },
     "metadata": {
      "needs_background": "light"
     },
     "output_type": "display_data"
    }
   ],
   "source": [
    "#Define plot (reference: http://alanpryorjr.com/visualizations/seaborn/countplot/countplot/)\n",
    "plot = sb.countplot(x=\"CancellationCode\", data=df)\n",
    "plot.set_xticklabels(['Carrier','Weather','National Air System','Security']);"
   ]
  },
  {
   "cell_type": "markdown",
   "metadata": {},
   "source": [
    "The avobe graph shows that \"Carrier\" and \"Weather\" are the staple reason for the flight cancellation."
   ]
  },
  {
   "cell_type": "markdown",
   "metadata": {},
   "source": [
    "### Which Carrier had the most cancellations? "
   ]
  },
  {
   "cell_type": "code",
   "execution_count": 9,
   "metadata": {},
   "outputs": [],
   "source": [
    "# creating a DataFrame with carrier and cancellation code \n",
    "carrier = df.UniqueCarrier.tolist()\n",
    "cancellation_code = df.CancellationCode.tolist()\n",
    "\n",
    "most_cancellation = pd.DataFrame({'cancellation_code':cancellation_code, 'carrier': carrier})\n",
    "most_cancellation = most_cancellation.dropna()\n",
    "#most_cancellation"
   ]
  },
  {
   "cell_type": "code",
   "execution_count": 10,
   "metadata": {},
   "outputs": [
    {
     "data": {
      "image/png": "[encoded data removed]",
      "text/plain": [
       "<Figure size 864x576 with 1 Axes>"
      ]
     },
     "metadata": {
      "needs_background": "light"
     },
     "output_type": "display_data"
    }
   ],
   "source": [
    "#Define Plot\n",
    "plt.figure(figsize=(12,8))\n",
    "fig= most_cancellation['carrier'].value_counts().plot(kind ='bar')\n",
    "fig.set_title('Cancellation count by the carrier name')\n",
    "fig.set_xlabel('Carrier Name')\n",
    "fig.set_ylabel('Frequency');"
   ]
  },
  {
   "cell_type": "markdown",
   "metadata": {},
   "source": [
    "The above bar plot shows that the MQ, AA and OO are the top three carriers with highest cancellation whereas HA is the carrier with lowest cancellations. The cancellation has been considered for the four type of cancellation code A, B,C and D. "
   ]
  },
  {
   "cell_type": "markdown",
   "metadata": {},
   "source": [
    "### Which carriers had the highest delays ? (arrival and departure)"
   ]
  },
  {
   "cell_type": "code",
   "execution_count": 11,
   "metadata": {},
   "outputs": [],
   "source": [
    "#To explore delays, we created new dataframes that excluded NaN (missing) values in delays to plot histogram.\n",
    "arrival_delay = df[df.ArrDelay.notnull()]\n",
    "departure_delay = df[df.DepDelay.notnull()]"
   ]
  },
  {
   "cell_type": "code",
   "execution_count": 12,
   "metadata": {},
   "outputs": [],
   "source": [
    "# grouping the arrival and departure by Carrier\n",
    "arrival_delay_carrier = arrival_delay.groupby('UniqueCarrier').ArrDelay.sum().sort_values(ascending=False)\n",
    "departure_delay_carrier = departure_delay.groupby('UniqueCarrier').DepDelay.sum().sort_values(ascending=False)\n",
    "delay=pd.merge(arrival_delay_carrier,departure_delay_carrier,on='UniqueCarrier')\n",
    "# delay.head()"
   ]
  },
  {
   "cell_type": "code",
   "execution_count": 13,
   "metadata": {},
   "outputs": [],
   "source": [
    "# delay.ArrDelay.tolist()\n",
    "# delay.index.tolist()"
   ]
  },
  {
   "cell_type": "code",
   "execution_count": 14,
   "metadata": {},
   "outputs": [
    {
     "data": {
      "image/png": "[encoded data removed]",
      "text/plain": [
       "<Figure size 1080x720 with 1 Axes>"
      ]
     },
     "metadata": {
      "needs_background": "light"
     },
     "output_type": "display_data"
    }
   ],
   "source": [
    "#Define Plot\n",
    "x = np.arange(len(delay.index))  # the carrier locations\n",
    "width = 0.35  # the width of the bars\n",
    "\n",
    "fig, ax = plt.subplots(figsize=(15, 10))\n",
    "rects1 = ax.bar(x - width/2, delay.ArrDelay, width, label='Arrival Delay')\n",
    "rects2 = ax.bar(x + width/2, delay.DepDelay, width, label='Departure Delay')\n",
    "\n",
    "# Adding some text for labels, title and custom x-axis tick labels, etc.\n",
    "ax.set_ylabel('minutes of delays')\n",
    "ax.set_title('Scores by Arrival and Departure Delay')\n",
    "ax.set_xticks(x)\n",
    "ax.set_xticklabels(delay.index)\n",
    "ax.legend()\n",
    "plt.show();"
   ]
  },
  {
   "cell_type": "markdown",
   "metadata": {},
   "source": [
    "From the plot it can be seen that (AA)American Airlines has the highest arrival delays. On the contrary 'WN' has the highest Departure Delay."
   ]
  },
  {
   "cell_type": "markdown",
   "metadata": {},
   "source": [
    "### In which month of the year the most cancellations occurred?"
   ]
  },
  {
   "cell_type": "code",
   "execution_count": 15,
   "metadata": {},
   "outputs": [],
   "source": [
    "cancellation_code = df.CancellationCode.tolist()\n",
    "month = df.Month.tolist()\n",
    "\n",
    "cancellation_month = pd.DataFrame({'cancellation_code':cancellation_code, 'month': month})\n",
    "cancellation_month = cancellation_month.dropna()\n",
    "# cancellation_month"
   ]
  },
  {
   "cell_type": "code",
   "execution_count": 16,
   "metadata": {},
   "outputs": [
    {
     "data": {
      "image/png": "[encoded data removed]",
      "text/plain": [
       "<Figure size 864x576 with 1 Axes>"
      ]
     },
     "metadata": {
      "needs_background": "light"
     },
     "output_type": "display_data"
    }
   ],
   "source": [
    "#Define Plot\n",
    "plt.figure(figsize=(12,8))\n",
    "fig= cancellation_month['month'].value_counts().plot(kind ='bar')\n",
    "fig.set_title('Cancellation count by month')\n",
    "fig.set_xlabel('month')\n",
    "fig.set_ylabel('Frequency');"
   ]
  },
  {
   "cell_type": "markdown",
   "metadata": {},
   "source": [
    "It can be seen that the first three months see the major cancellations whereas 2nd month has the most. In January and March the cancellation were almost same. "
   ]
  },
  {
   "cell_type": "markdown",
   "metadata": {},
   "source": [
    "### What does the distribution of arrival delays and departure delays look like?"
   ]
  },
  {
   "cell_type": "code",
   "execution_count": 17,
   "metadata": {},
   "outputs": [
    {
     "data": {
      "text/plain": [
       "0     1.0\n",
       "1     8.0\n",
       "2    34.0\n",
       "3    26.0\n",
       "4    -3.0\n",
       "Name: ArrDelay, dtype: float64"
      ]
     },
     "execution_count": 17,
     "metadata": {},
     "output_type": "execute_result"
    }
   ],
   "source": [
    "# recalling previously used dataFrame \n",
    "arrival_delay = df[df.ArrDelay.notnull()]\n",
    "adelay = arrival_delay.ArrDelay\n",
    "adelay.head()"
   ]
  },
  {
   "cell_type": "code",
   "execution_count": 18,
   "metadata": {},
   "outputs": [
    {
     "data": {
      "image/png": "[encoded data removed]",
      "text/plain": [
       "<Figure size 864x576 with 1 Axes>"
      ]
     },
     "metadata": {
      "needs_background": "light"
     },
     "output_type": "display_data"
    }
   ],
   "source": [
    "#Define plot\n",
    "plt.figure(figsize=(12,8))\n",
    "plt.title('Arrival Delays Distribution')\n",
    "plt.xlabel('Arrival Delays(minutes)')\n",
    "plt.ylabel('counts')\n",
    "plt.hist(adelay,bins=np.arange(-50,350,5));"
   ]
  },
  {
   "cell_type": "markdown",
   "metadata": {},
   "source": [
    "From the histogram we can see that most of the delays are concentrated between 0 and 50 minutes. The distribution is skewed to the right."
   ]
  },
  {
   "cell_type": "code",
   "execution_count": 19,
   "metadata": {},
   "outputs": [
    {
     "data": {
      "text/plain": [
       "0     7.0\n",
       "1    13.0\n",
       "2    36.0\n",
       "3    30.0\n",
       "4     1.0\n",
       "Name: DepDelay, dtype: float64"
      ]
     },
     "execution_count": 19,
     "metadata": {},
     "output_type": "execute_result"
    }
   ],
   "source": [
    "#Filtering only data with departure_delay information, excluding NaN\n",
    "depart_delay=df[df.DepDelay.notnull()]\n",
    "ddelay = depart_delay.DepDelay\n",
    "ddelay.head()"
   ]
  },
  {
   "cell_type": "code",
   "execution_count": 20,
   "metadata": {},
   "outputs": [
    {
     "data": {
      "image/png": "[encoded data removed]",
      "text/plain": [
       "<Figure size 864x576 with 1 Axes>"
      ]
     },
     "metadata": {
      "needs_background": "light"
     },
     "output_type": "display_data"
    }
   ],
   "source": [
    "#Define plot\n",
    "plt.figure(figsize=(12,8))\n",
    "plt.title('Departure Delays Distribution')\n",
    "plt.xlabel('Departure Delays(minutes)')\n",
    "plt.ylabel('counts')\n",
    "plt.hist(ddelay,bins=np.arange(-50,350,5));"
   ]
  },
  {
   "cell_type": "markdown",
   "metadata": {},
   "source": [
    "The histogram above shows the distribution of departure delays. From the graph, it can be observed that most of the delays are between 0 and 50. The graph is skewed to the right"
   ]
  },
  {
   "cell_type": "markdown",
   "metadata": {},
   "source": [
    "## Bivariate Exploration "
   ]
  },
  {
   "cell_type": "markdown",
   "metadata": {},
   "source": [
    "## What is the relationship between arrival and departure delays? "
   ]
  },
  {
   "cell_type": "code",
   "execution_count": 21,
   "metadata": {},
   "outputs": [
    {
     "data": {
      "text/plain": [
       "<Figure size 1008x576 with 0 Axes>"
      ]
     },
     "metadata": {},
     "output_type": "display_data"
    },
    {
     "data": {
      "image/png": "[encoded data removed]",
      "text/plain": [
       "<Figure size 432x288 with 1 Axes>"
      ]
     },
     "metadata": {
      "needs_background": "light"
     },
     "output_type": "display_data"
    }
   ],
   "source": [
    "#Define Plot\n",
    "plt.figure(figsize=(14,8))\n",
    "df.plot.scatter(x='DepDelay', y='ArrDelay')\n",
    "plt.title('relationship between arrival and departure delays')\n",
    "plt.show();"
   ]
  },
  {
   "cell_type": "markdown",
   "metadata": {},
   "source": [
    "There is a linear realationship between departure and arrival delays. With the increase of Arrival delay, departure delay is also increasing."
   ]
  },
  {
   "cell_type": "markdown",
   "metadata": {},
   "source": [
    "## Is there any relationship between departure delay and taxi out time?"
   ]
  },
  {
   "cell_type": "code",
   "execution_count": 22,
   "metadata": {},
   "outputs": [
    {
     "data": {
      "image/png": "[encoded data removed]",
      "text/plain": [
       "<Figure size 432x288 with 1 Axes>"
      ]
     },
     "metadata": {
      "needs_background": "light"
     },
     "output_type": "display_data"
    }
   ],
   "source": [
    "#Define plot\n",
    "df.plot.scatter(x='DepDelay', y='TaxiOut')\n",
    "plt.title('relationship between departure delay and taxi time out')\n",
    "plt.show();\n"
   ]
  },
  {
   "cell_type": "markdown",
   "metadata": {},
   "source": [
    "There is no linear relationship between departure delay and taxi out time. The data at the left on the graph shows that, there is no effect on departure delay as the delay for Taxi Out increased. "
   ]
  },
  {
   "cell_type": "markdown",
   "metadata": {},
   "source": [
    "### What is the Fight performance of the carriers in terms of arrival delays?"
   ]
  },
  {
   "cell_type": "code",
   "execution_count": 23,
   "metadata": {},
   "outputs": [
    {
     "data": {
      "text/html": [
       "<div>\n",
       "<style scoped>\n",
       "    .dataframe tbody tr th:only-of-type {\n",
       "        vertical-align: middle;\n",
       "    }\n",
       "\n",
       "    .dataframe tbody tr th {\n",
       "        vertical-align: top;\n",
       "    }\n",
       "\n",
       "    .dataframe thead th {\n",
       "        text-align: right;\n",
       "    }\n",
       "</style>\n",
       "<table border=\"1\" class=\"dataframe\">\n",
       "  <thead>\n",
       "    <tr style=\"text-align: right;\">\n",
       "      <th></th>\n",
       "      <th>UniqueCarrier</th>\n",
       "      <th>delayed_flights</th>\n",
       "    </tr>\n",
       "  </thead>\n",
       "  <tbody>\n",
       "    <tr>\n",
       "      <th>0</th>\n",
       "      <td>9E</td>\n",
       "      <td>144283</td>\n",
       "    </tr>\n",
       "    <tr>\n",
       "      <th>1</th>\n",
       "      <td>AA</td>\n",
       "      <td>423359</td>\n",
       "    </tr>\n",
       "    <tr>\n",
       "      <th>2</th>\n",
       "      <td>AQ</td>\n",
       "      <td>14693</td>\n",
       "    </tr>\n",
       "    <tr>\n",
       "      <th>3</th>\n",
       "      <td>AS</td>\n",
       "      <td>97363</td>\n",
       "    </tr>\n",
       "    <tr>\n",
       "      <th>4</th>\n",
       "      <td>B6</td>\n",
       "      <td>116799</td>\n",
       "    </tr>\n",
       "  </tbody>\n",
       "</table>\n",
       "</div>"
      ],
      "text/plain": [
       "  UniqueCarrier  delayed_flights\n",
       "0            9E           144283\n",
       "1            AA           423359\n",
       "2            AQ            14693\n",
       "3            AS            97363\n",
       "4            B6           116799"
      ]
     },
     "execution_count": 23,
     "metadata": {},
     "output_type": "execute_result"
    }
   ],
   "source": [
    "#Getting a dataframe with number of flights that were delayed and not cancelled by each carrier\n",
    "df_depart_delay=df[df.DepDelay.notnull()]\n",
    "arrival_delayed=df_depart_delay.query('Cancelled==0 & ArrDelay>0').groupby('UniqueCarrier').size().reset_index(name='delayed_flights')\n",
    "\n",
    "arrival_delayed.head()"
   ]
  },
  {
   "cell_type": "code",
   "execution_count": 24,
   "metadata": {},
   "outputs": [
    {
     "data": {
      "text/html": [
       "<div>\n",
       "<style scoped>\n",
       "    .dataframe tbody tr th:only-of-type {\n",
       "        vertical-align: middle;\n",
       "    }\n",
       "\n",
       "    .dataframe tbody tr th {\n",
       "        vertical-align: top;\n",
       "    }\n",
       "\n",
       "    .dataframe thead th {\n",
       "        text-align: right;\n",
       "    }\n",
       "</style>\n",
       "<table border=\"1\" class=\"dataframe\">\n",
       "  <thead>\n",
       "    <tr style=\"text-align: right;\">\n",
       "      <th></th>\n",
       "      <th>UniqueCarrier</th>\n",
       "      <th>total_flights</th>\n",
       "    </tr>\n",
       "  </thead>\n",
       "  <tbody>\n",
       "    <tr>\n",
       "      <th>0</th>\n",
       "      <td>9E</td>\n",
       "      <td>335174</td>\n",
       "    </tr>\n",
       "    <tr>\n",
       "      <th>1</th>\n",
       "      <td>AA</td>\n",
       "      <td>809668</td>\n",
       "    </tr>\n",
       "    <tr>\n",
       "      <th>2</th>\n",
       "      <td>AQ</td>\n",
       "      <td>53730</td>\n",
       "    </tr>\n",
       "    <tr>\n",
       "      <th>3</th>\n",
       "      <td>AS</td>\n",
       "      <td>206703</td>\n",
       "    </tr>\n",
       "    <tr>\n",
       "      <th>4</th>\n",
       "      <td>B6</td>\n",
       "      <td>254316</td>\n",
       "    </tr>\n",
       "  </tbody>\n",
       "</table>\n",
       "</div>"
      ],
      "text/plain": [
       "  UniqueCarrier  total_flights\n",
       "0            9E         335174\n",
       "1            AA         809668\n",
       "2            AQ          53730\n",
       "3            AS         206703\n",
       "4            B6         254316"
      ]
     },
     "execution_count": 24,
     "metadata": {},
     "output_type": "execute_result"
    }
   ],
   "source": [
    "#Getting a dataframe with number of total flights that took off (not cancelled)\n",
    "uncancelled_flights=df.query('Cancelled==0').groupby('UniqueCarrier').size().reset_index(name='total_flights')\n",
    "uncancelled_flights.head()"
   ]
  },
  {
   "cell_type": "code",
   "execution_count": 25,
   "metadata": {
    "scrolled": true
   },
   "outputs": [
    {
     "data": {
      "text/html": [
       "<div>\n",
       "<style scoped>\n",
       "    .dataframe tbody tr th:only-of-type {\n",
       "        vertical-align: middle;\n",
       "    }\n",
       "\n",
       "    .dataframe tbody tr th {\n",
       "        vertical-align: top;\n",
       "    }\n",
       "\n",
       "    .dataframe thead th {\n",
       "        text-align: right;\n",
       "    }\n",
       "</style>\n",
       "<table border=\"1\" class=\"dataframe\">\n",
       "  <thead>\n",
       "    <tr style=\"text-align: right;\">\n",
       "      <th></th>\n",
       "      <th>UniqueCarrier</th>\n",
       "      <th>delayed_flights</th>\n",
       "      <th>total_flights</th>\n",
       "    </tr>\n",
       "  </thead>\n",
       "  <tbody>\n",
       "    <tr>\n",
       "      <th>17</th>\n",
       "      <td>WN</td>\n",
       "      <td>671617</td>\n",
       "      <td>1553464</td>\n",
       "    </tr>\n",
       "    <tr>\n",
       "      <th>1</th>\n",
       "      <td>AA</td>\n",
       "      <td>423359</td>\n",
       "      <td>809668</td>\n",
       "    </tr>\n",
       "    <tr>\n",
       "      <th>14</th>\n",
       "      <td>OO</td>\n",
       "      <td>361584</td>\n",
       "      <td>772107</td>\n",
       "    </tr>\n",
       "    <tr>\n",
       "      <th>11</th>\n",
       "      <td>MQ</td>\n",
       "      <td>328208</td>\n",
       "      <td>676602</td>\n",
       "    </tr>\n",
       "    <tr>\n",
       "      <th>16</th>\n",
       "      <td>US</td>\n",
       "      <td>317405</td>\n",
       "      <td>627654</td>\n",
       "    </tr>\n",
       "  </tbody>\n",
       "</table>\n",
       "</div>"
      ],
      "text/plain": [
       "   UniqueCarrier  delayed_flights  total_flights\n",
       "17            WN           671617        1553464\n",
       "1             AA           423359         809668\n",
       "14            OO           361584         772107\n",
       "11            MQ           328208         676602\n",
       "16            US           317405         627654"
      ]
     },
     "execution_count": 25,
     "metadata": {},
     "output_type": "execute_result"
    }
   ],
   "source": [
    "#Merging both dataframes on unique_carrier_code\n",
    "df_merged=pd.merge(arrival_delayed,uncancelled_flights,on='UniqueCarrier')\n",
    "df_merged = df_merged.sort_values(by =['delayed_flights', 'total_flights'], ascending = False)\n",
    "df_merged.head()"
   ]
  },
  {
   "cell_type": "code",
   "execution_count": 26,
   "metadata": {},
   "outputs": [
    {
     "data": {
      "text/html": [
       "<div>\n",
       "<style scoped>\n",
       "    .dataframe tbody tr th:only-of-type {\n",
       "        vertical-align: middle;\n",
       "    }\n",
       "\n",
       "    .dataframe tbody tr th {\n",
       "        vertical-align: top;\n",
       "    }\n",
       "\n",
       "    .dataframe thead th {\n",
       "        text-align: right;\n",
       "    }\n",
       "</style>\n",
       "<table border=\"1\" class=\"dataframe\">\n",
       "  <thead>\n",
       "    <tr style=\"text-align: right;\">\n",
       "      <th></th>\n",
       "      <th>delay_flight</th>\n",
       "      <th>total_flight</th>\n",
       "    </tr>\n",
       "  </thead>\n",
       "  <tbody>\n",
       "    <tr>\n",
       "      <th>WN</th>\n",
       "      <td>671617</td>\n",
       "      <td>1553464</td>\n",
       "    </tr>\n",
       "    <tr>\n",
       "      <th>AA</th>\n",
       "      <td>423359</td>\n",
       "      <td>809668</td>\n",
       "    </tr>\n",
       "    <tr>\n",
       "      <th>OO</th>\n",
       "      <td>361584</td>\n",
       "      <td>772107</td>\n",
       "    </tr>\n",
       "    <tr>\n",
       "      <th>MQ</th>\n",
       "      <td>328208</td>\n",
       "      <td>676602</td>\n",
       "    </tr>\n",
       "    <tr>\n",
       "      <th>US</th>\n",
       "      <td>317405</td>\n",
       "      <td>627654</td>\n",
       "    </tr>\n",
       "  </tbody>\n",
       "</table>\n",
       "</div>"
      ],
      "text/plain": [
       "    delay_flight  total_flight\n",
       "WN        671617       1553464\n",
       "AA        423359        809668\n",
       "OO        361584        772107\n",
       "MQ        328208        676602\n",
       "US        317405        627654"
      ]
     },
     "execution_count": 26,
     "metadata": {},
     "output_type": "execute_result"
    }
   ],
   "source": [
    "# changing the index as carrier \n",
    "carrier = df_merged.UniqueCarrier.tolist()\n",
    "delay_flight = df_merged.delayed_flights.tolist()\n",
    "total_flight = df_merged.total_flights.tolist()\n",
    "\n",
    "df1 = pd.DataFrame({'delay_flight':delay_flight, 'total_flight':total_flight}, index = carrier)\n",
    "df1.head()"
   ]
  },
  {
   "cell_type": "code",
   "execution_count": 27,
   "metadata": {},
   "outputs": [
    {
     "data": {
      "text/html": [
       "<div>\n",
       "<style scoped>\n",
       "    .dataframe tbody tr th:only-of-type {\n",
       "        vertical-align: middle;\n",
       "    }\n",
       "\n",
       "    .dataframe tbody tr th {\n",
       "        vertical-align: top;\n",
       "    }\n",
       "\n",
       "    .dataframe thead th {\n",
       "        text-align: right;\n",
       "    }\n",
       "</style>\n",
       "<table border=\"1\" class=\"dataframe\">\n",
       "  <thead>\n",
       "    <tr style=\"text-align: right;\">\n",
       "      <th></th>\n",
       "      <th>delay_flight</th>\n",
       "      <th>total_flight</th>\n",
       "      <th>ratio</th>\n",
       "    </tr>\n",
       "  </thead>\n",
       "  <tbody>\n",
       "    <tr>\n",
       "      <th>WN</th>\n",
       "      <td>671617</td>\n",
       "      <td>1553464</td>\n",
       "      <td>0.432335</td>\n",
       "    </tr>\n",
       "    <tr>\n",
       "      <th>AA</th>\n",
       "      <td>423359</td>\n",
       "      <td>809668</td>\n",
       "      <td>0.522880</td>\n",
       "    </tr>\n",
       "    <tr>\n",
       "      <th>OO</th>\n",
       "      <td>361584</td>\n",
       "      <td>772107</td>\n",
       "      <td>0.468308</td>\n",
       "    </tr>\n",
       "    <tr>\n",
       "      <th>MQ</th>\n",
       "      <td>328208</td>\n",
       "      <td>676602</td>\n",
       "      <td>0.485083</td>\n",
       "    </tr>\n",
       "    <tr>\n",
       "      <th>US</th>\n",
       "      <td>317405</td>\n",
       "      <td>627654</td>\n",
       "      <td>0.505701</td>\n",
       "    </tr>\n",
       "    <tr>\n",
       "      <th>UA</th>\n",
       "      <td>309194</td>\n",
       "      <td>627493</td>\n",
       "      <td>0.492745</td>\n",
       "    </tr>\n",
       "    <tr>\n",
       "      <th>NW</th>\n",
       "      <td>299206</td>\n",
       "      <td>528104</td>\n",
       "      <td>0.566566</td>\n",
       "    </tr>\n",
       "    <tr>\n",
       "      <th>DL</th>\n",
       "      <td>286888</td>\n",
       "      <td>617726</td>\n",
       "      <td>0.464426</td>\n",
       "    </tr>\n",
       "    <tr>\n",
       "      <th>XE</th>\n",
       "      <td>241805</td>\n",
       "      <td>558805</td>\n",
       "      <td>0.432718</td>\n",
       "    </tr>\n",
       "    <tr>\n",
       "      <th>CO</th>\n",
       "      <td>198755</td>\n",
       "      <td>421818</td>\n",
       "      <td>0.471187</td>\n",
       "    </tr>\n",
       "    <tr>\n",
       "      <th>EV</th>\n",
       "      <td>193304</td>\n",
       "      <td>367351</td>\n",
       "      <td>0.526211</td>\n",
       "    </tr>\n",
       "    <tr>\n",
       "      <th>YV</th>\n",
       "      <td>160684</td>\n",
       "      <td>363611</td>\n",
       "      <td>0.441912</td>\n",
       "    </tr>\n",
       "    <tr>\n",
       "      <th>FL</th>\n",
       "      <td>157267</td>\n",
       "      <td>346510</td>\n",
       "      <td>0.453860</td>\n",
       "    </tr>\n",
       "    <tr>\n",
       "      <th>OH</th>\n",
       "      <td>155217</td>\n",
       "      <td>294252</td>\n",
       "      <td>0.527497</td>\n",
       "    </tr>\n",
       "    <tr>\n",
       "      <th>9E</th>\n",
       "      <td>144283</td>\n",
       "      <td>335174</td>\n",
       "      <td>0.430472</td>\n",
       "    </tr>\n",
       "    <tr>\n",
       "      <th>B6</th>\n",
       "      <td>116799</td>\n",
       "      <td>254316</td>\n",
       "      <td>0.459267</td>\n",
       "    </tr>\n",
       "    <tr>\n",
       "      <th>AS</th>\n",
       "      <td>97363</td>\n",
       "      <td>206703</td>\n",
       "      <td>0.471028</td>\n",
       "    </tr>\n",
       "    <tr>\n",
       "      <th>F9</th>\n",
       "      <td>65772</td>\n",
       "      <td>127944</td>\n",
       "      <td>0.514069</td>\n",
       "    </tr>\n",
       "    <tr>\n",
       "      <th>HA</th>\n",
       "      <td>19079</td>\n",
       "      <td>74210</td>\n",
       "      <td>0.257095</td>\n",
       "    </tr>\n",
       "    <tr>\n",
       "      <th>AQ</th>\n",
       "      <td>14693</td>\n",
       "      <td>53730</td>\n",
       "      <td>0.273460</td>\n",
       "    </tr>\n",
       "  </tbody>\n",
       "</table>\n",
       "</div>"
      ],
      "text/plain": [
       "    delay_flight  total_flight     ratio\n",
       "WN        671617       1553464  0.432335\n",
       "AA        423359        809668  0.522880\n",
       "OO        361584        772107  0.468308\n",
       "MQ        328208        676602  0.485083\n",
       "US        317405        627654  0.505701\n",
       "UA        309194        627493  0.492745\n",
       "NW        299206        528104  0.566566\n",
       "DL        286888        617726  0.464426\n",
       "XE        241805        558805  0.432718\n",
       "CO        198755        421818  0.471187\n",
       "EV        193304        367351  0.526211\n",
       "YV        160684        363611  0.441912\n",
       "FL        157267        346510  0.453860\n",
       "OH        155217        294252  0.527497\n",
       "9E        144283        335174  0.430472\n",
       "B6        116799        254316  0.459267\n",
       "AS         97363        206703  0.471028\n",
       "F9         65772        127944  0.514069\n",
       "HA         19079         74210  0.257095\n",
       "AQ         14693         53730  0.273460"
      ]
     },
     "execution_count": 27,
     "metadata": {},
     "output_type": "execute_result"
    }
   ],
   "source": [
    "df1['ratio']=df1.delay_flight/df1.total_flight\n",
    "df1"
   ]
  },
  {
   "cell_type": "code",
   "execution_count": 28,
   "metadata": {},
   "outputs": [
    {
     "data": {
      "image/png": "[encoded data removed]",
      "text/plain": [
       "<Figure size 1152x864 with 1 Axes>"
      ]
     },
     "metadata": {
      "needs_background": "light"
     },
     "output_type": "display_data"
    }
   ],
   "source": [
    "# Define plot \n",
    "ax = df1.plot.bar(figsize= [16,12], rot=90)\n",
    "plt.xlabel('Carrier')\n",
    "plt.ylabel('Numbers of Flights')\n",
    "plt.title('Comparision of delayed and on time flights for the carriers')\n",
    "\n",
    "plt.show()"
   ]
  },
  {
   "cell_type": "markdown",
   "metadata": {},
   "source": [
    "It is visible that the carrier 'WN' has conducted more flights and they have the highest number of delays as well, next plot the percentage will be showen."
   ]
  },
  {
   "cell_type": "code",
   "execution_count": 29,
   "metadata": {},
   "outputs": [
    {
     "data": {
      "image/png": "[encoded data removed]",
      "text/plain": [
       "<Figure size 1440x720 with 1 Axes>"
      ]
     },
     "metadata": {
      "needs_background": "light"
     },
     "output_type": "display_data"
    }
   ],
   "source": [
    "# Define plot \n",
    "plt.figure(figsize=(20,10))\n",
    "plt.bar(list(df1.index), df1.ratio)\n",
    "plt.xlabel('Carrier')\n",
    "plt.ylabel('Numbers of Flights')\n",
    "plt.title('Comparision of delayed and on time flights for the carriers')\n",
    "\n",
    "plt.show()"
   ]
  },
  {
   "cell_type": "markdown",
   "metadata": {},
   "source": [
    "So, it is now clear that the highest percentage of delays has been occured in the carrier named 'NW'. "
   ]
  },
  {
   "cell_type": "markdown",
   "metadata": {},
   "source": [
    "### Is there any relationship between the flight delays and destination ?"
   ]
  },
  {
   "cell_type": "code",
   "execution_count": 30,
   "metadata": {},
   "outputs": [
    {
     "data": {
      "text/html": [
       "<div>\n",
       "<style scoped>\n",
       "    .dataframe tbody tr th:only-of-type {\n",
       "        vertical-align: middle;\n",
       "    }\n",
       "\n",
       "    .dataframe tbody tr th {\n",
       "        vertical-align: top;\n",
       "    }\n",
       "\n",
       "    .dataframe thead th {\n",
       "        text-align: right;\n",
       "    }\n",
       "</style>\n",
       "<table border=\"1\" class=\"dataframe\">\n",
       "  <thead>\n",
       "    <tr style=\"text-align: right;\">\n",
       "      <th></th>\n",
       "      <th>Dest</th>\n",
       "      <th>delayed_flights</th>\n",
       "    </tr>\n",
       "  </thead>\n",
       "  <tbody>\n",
       "    <tr>\n",
       "      <th>0</th>\n",
       "      <td>ABE</td>\n",
       "      <td>3347</td>\n",
       "    </tr>\n",
       "    <tr>\n",
       "      <th>1</th>\n",
       "      <td>ABI</td>\n",
       "      <td>1743</td>\n",
       "    </tr>\n",
       "    <tr>\n",
       "      <th>2</th>\n",
       "      <td>ABQ</td>\n",
       "      <td>24599</td>\n",
       "    </tr>\n",
       "    <tr>\n",
       "      <th>3</th>\n",
       "      <td>ABY</td>\n",
       "      <td>901</td>\n",
       "    </tr>\n",
       "    <tr>\n",
       "      <th>4</th>\n",
       "      <td>ACK</td>\n",
       "      <td>164</td>\n",
       "    </tr>\n",
       "  </tbody>\n",
       "</table>\n",
       "</div>"
      ],
      "text/plain": [
       "  Dest  delayed_flights\n",
       "0  ABE             3347\n",
       "1  ABI             1743\n",
       "2  ABQ            24599\n",
       "3  ABY              901\n",
       "4  ACK              164"
      ]
     },
     "execution_count": 30,
     "metadata": {},
     "output_type": "execute_result"
    }
   ],
   "source": [
    "# getting information for destination based flights that has delayed but not cancelled \n",
    "df_depart_delay=df[df.DepDelay.notnull()]\n",
    "arrival_delayed_dest=df_depart_delay.query('Cancelled==0 & ArrDelay>0').groupby('Dest').size().reset_index(name='delayed_flights')\n",
    "\n",
    "arrival_delayed_dest.head()"
   ]
  },
  {
   "cell_type": "code",
   "execution_count": 31,
   "metadata": {},
   "outputs": [
    {
     "data": {
      "text/html": [
       "<div>\n",
       "<style scoped>\n",
       "    .dataframe tbody tr th:only-of-type {\n",
       "        vertical-align: middle;\n",
       "    }\n",
       "\n",
       "    .dataframe tbody tr th {\n",
       "        vertical-align: top;\n",
       "    }\n",
       "\n",
       "    .dataframe thead th {\n",
       "        text-align: right;\n",
       "    }\n",
       "</style>\n",
       "<table border=\"1\" class=\"dataframe\">\n",
       "  <thead>\n",
       "    <tr style=\"text-align: right;\">\n",
       "      <th></th>\n",
       "      <th>Dest</th>\n",
       "      <th>total_flights</th>\n",
       "    </tr>\n",
       "  </thead>\n",
       "  <tbody>\n",
       "    <tr>\n",
       "      <th>0</th>\n",
       "      <td>ABE</td>\n",
       "      <td>7054</td>\n",
       "    </tr>\n",
       "    <tr>\n",
       "      <th>1</th>\n",
       "      <td>ABI</td>\n",
       "      <td>3601</td>\n",
       "    </tr>\n",
       "    <tr>\n",
       "      <th>2</th>\n",
       "      <td>ABQ</td>\n",
       "      <td>54298</td>\n",
       "    </tr>\n",
       "    <tr>\n",
       "      <th>3</th>\n",
       "      <td>ABY</td>\n",
       "      <td>1693</td>\n",
       "    </tr>\n",
       "    <tr>\n",
       "      <th>4</th>\n",
       "      <td>ACK</td>\n",
       "      <td>282</td>\n",
       "    </tr>\n",
       "  </tbody>\n",
       "</table>\n",
       "</div>"
      ],
      "text/plain": [
       "  Dest  total_flights\n",
       "0  ABE           7054\n",
       "1  ABI           3601\n",
       "2  ABQ          54298\n",
       "3  ABY           1693\n",
       "4  ACK            282"
      ]
     },
     "execution_count": 31,
     "metadata": {},
     "output_type": "execute_result"
    }
   ],
   "source": [
    "#Getting a dataframe with number of total flights that took off (not cancelled) based on destination \n",
    "uncancelled_flights_dest=df.query('Cancelled==0').groupby('Dest').size().reset_index(name='total_flights')\n",
    "uncancelled_flights_dest.head()"
   ]
  },
  {
   "cell_type": "code",
   "execution_count": 32,
   "metadata": {},
   "outputs": [
    {
     "data": {
      "text/html": [
       "<div>\n",
       "<style scoped>\n",
       "    .dataframe tbody tr th:only-of-type {\n",
       "        vertical-align: middle;\n",
       "    }\n",
       "\n",
       "    .dataframe tbody tr th {\n",
       "        vertical-align: top;\n",
       "    }\n",
       "\n",
       "    .dataframe thead th {\n",
       "        text-align: right;\n",
       "    }\n",
       "</style>\n",
       "<table border=\"1\" class=\"dataframe\">\n",
       "  <thead>\n",
       "    <tr style=\"text-align: right;\">\n",
       "      <th></th>\n",
       "      <th>Dest</th>\n",
       "      <th>delayed_flights</th>\n",
       "      <th>total_flights</th>\n",
       "    </tr>\n",
       "  </thead>\n",
       "  <tbody>\n",
       "    <tr>\n",
       "      <th>0</th>\n",
       "      <td>ABE</td>\n",
       "      <td>3347</td>\n",
       "      <td>7054</td>\n",
       "    </tr>\n",
       "    <tr>\n",
       "      <th>1</th>\n",
       "      <td>ABI</td>\n",
       "      <td>1743</td>\n",
       "      <td>3601</td>\n",
       "    </tr>\n",
       "    <tr>\n",
       "      <th>2</th>\n",
       "      <td>ABQ</td>\n",
       "      <td>24599</td>\n",
       "      <td>54298</td>\n",
       "    </tr>\n",
       "    <tr>\n",
       "      <th>3</th>\n",
       "      <td>ABY</td>\n",
       "      <td>901</td>\n",
       "      <td>1693</td>\n",
       "    </tr>\n",
       "    <tr>\n",
       "      <th>4</th>\n",
       "      <td>ACK</td>\n",
       "      <td>164</td>\n",
       "      <td>282</td>\n",
       "    </tr>\n",
       "  </tbody>\n",
       "</table>\n",
       "</div>"
      ],
      "text/plain": [
       "  Dest  delayed_flights  total_flights\n",
       "0  ABE             3347           7054\n",
       "1  ABI             1743           3601\n",
       "2  ABQ            24599          54298\n",
       "3  ABY              901           1693\n",
       "4  ACK              164            282"
      ]
     },
     "execution_count": 32,
     "metadata": {},
     "output_type": "execute_result"
    }
   ],
   "source": [
    "#Merging both dataframes on Destination \n",
    "df_merged_dest=pd.merge(arrival_delayed_dest,uncancelled_flights_dest,on='Dest')\n",
    "df_merged_dest.head()"
   ]
  },
  {
   "cell_type": "code",
   "execution_count": 33,
   "metadata": {},
   "outputs": [],
   "source": [
    "df_merged_dest_sort = df_merged_dest.sort_values(by =['delayed_flights', 'total_flights'], ascending = False)\n",
    "top_20_destination = df_merged_dest_sort.head(20)"
   ]
  },
  {
   "cell_type": "code",
   "execution_count": 34,
   "metadata": {},
   "outputs": [
    {
     "data": {
      "image/png": "[encoded data removed]",
      "text/plain": [
       "<Figure size 1152x864 with 1 Axes>"
      ]
     },
     "metadata": {
      "needs_background": "light"
     },
     "output_type": "display_data"
    }
   ],
   "source": [
    "# changing the index as Destination \n",
    "dest = top_20_destination.Dest.tolist()\n",
    "delay_flight = top_20_destination.delayed_flights.tolist()\n",
    "total_flight = top_20_destination.total_flights.tolist()\n",
    "\n",
    "df2 = pd.DataFrame({'delay_flight':delay_flight, 'total_flight':total_flight}, index = dest)\n",
    "df2.head()\n",
    "# Define Plot \n",
    "ax = df2.plot.bar(figsize= [16,12], rot=90)\n",
    "plt.xlabel('Destination')\n",
    "plt.ylabel('Numbers of Flights')\n",
    "plt.title('Comparision of delayed and on time flights based on Destination')\n",
    "\n",
    "plt.show()"
   ]
  },
  {
   "cell_type": "markdown",
   "metadata": {},
   "source": [
    "The figure above gives an overview of top 20 Desitinations where the flights has conducted on Time and delayed. The highest number of flight has been conducted in 'ATL'(Atlanta, GA: Hartsfield-Jackson Atlanta International) and the delayed number of flights is also higher in 'ATL'. It's pretty interesting all the destinations has a delayed number flights which is almost the half the number of total flights conducted for respective destinations."
   ]
  },
  {
   "cell_type": "markdown",
   "metadata": {},
   "source": [
    "## Multivariate Exploration"
   ]
  },
  {
   "cell_type": "markdown",
   "metadata": {},
   "source": [
    "### Is there any relations between the AirTime and the flight delays? Are long distance flights prone delay more than that of small distance Flights while conducting Flights ? [long/small distance flights(in time)] "
   ]
  },
  {
   "cell_type": "code",
   "execution_count": 35,
   "metadata": {},
   "outputs": [],
   "source": [
    "#creating arrays for the necessary columns \n",
    "data = {'AirTime':df.AirTime,'CD':df.CarrierDelay,'WD':df.WeatherDelay, 'NASD':df.NASDelay, 'SD':df.SecurityDelay, 'LAD':df.LateAircraftDelay}"
   ]
  },
  {
   "cell_type": "code",
   "execution_count": 36,
   "metadata": {},
   "outputs": [],
   "source": [
    "# creating dataframe with all the delays and AirTime \n",
    "df3=pd.DataFrame(data)"
   ]
  },
  {
   "cell_type": "code",
   "execution_count": 37,
   "metadata": {},
   "outputs": [],
   "source": [
    "#droping null values \n",
    "df3 = df3.dropna()"
   ]
  },
  {
   "cell_type": "code",
   "execution_count": 38,
   "metadata": {},
   "outputs": [],
   "source": [
    "#dropping flights having less airtime than 30, for generating good graph\n",
    "df3 = df3.drop(df3[df3.AirTime < 30.0].index)"
   ]
  },
  {
   "cell_type": "code",
   "execution_count": 39,
   "metadata": {},
   "outputs": [],
   "source": [
    "#sorting \n",
    "df3 = df3.sort_values(by=['AirTime'])"
   ]
  },
  {
   "cell_type": "code",
   "execution_count": 40,
   "metadata": {},
   "outputs": [],
   "source": [
    "df3['MeanDelay'] = df3.loc[:,'CD':].mean(axis=1)"
   ]
  },
  {
   "cell_type": "code",
   "execution_count": 41,
   "metadata": {},
   "outputs": [
    {
     "data": {
      "text/html": [
       "<div>\n",
       "<style scoped>\n",
       "    .dataframe tbody tr th:only-of-type {\n",
       "        vertical-align: middle;\n",
       "    }\n",
       "\n",
       "    .dataframe tbody tr th {\n",
       "        vertical-align: top;\n",
       "    }\n",
       "\n",
       "    .dataframe thead th {\n",
       "        text-align: right;\n",
       "    }\n",
       "</style>\n",
       "<table border=\"1\" class=\"dataframe\">\n",
       "  <thead>\n",
       "    <tr style=\"text-align: right;\">\n",
       "      <th></th>\n",
       "      <th>AirTime</th>\n",
       "      <th>CD</th>\n",
       "      <th>WD</th>\n",
       "      <th>NASD</th>\n",
       "      <th>SD</th>\n",
       "      <th>LAD</th>\n",
       "      <th>MeanDelay</th>\n",
       "    </tr>\n",
       "  </thead>\n",
       "  <tbody>\n",
       "    <tr>\n",
       "      <th>799326</th>\n",
       "      <td>30.0</td>\n",
       "      <td>0.0</td>\n",
       "      <td>0.0</td>\n",
       "      <td>0.0</td>\n",
       "      <td>0.0</td>\n",
       "      <td>0.0</td>\n",
       "      <td>0.000000</td>\n",
       "    </tr>\n",
       "    <tr>\n",
       "      <th>2838763</th>\n",
       "      <td>30.0</td>\n",
       "      <td>0.0</td>\n",
       "      <td>0.0</td>\n",
       "      <td>0.0</td>\n",
       "      <td>0.0</td>\n",
       "      <td>0.0</td>\n",
       "      <td>0.000000</td>\n",
       "    </tr>\n",
       "    <tr>\n",
       "      <th>2838779</th>\n",
       "      <td>30.0</td>\n",
       "      <td>0.0</td>\n",
       "      <td>0.0</td>\n",
       "      <td>0.0</td>\n",
       "      <td>0.0</td>\n",
       "      <td>0.0</td>\n",
       "      <td>0.000000</td>\n",
       "    </tr>\n",
       "    <tr>\n",
       "      <th>2838781</th>\n",
       "      <td>30.0</td>\n",
       "      <td>0.0</td>\n",
       "      <td>0.0</td>\n",
       "      <td>18.0</td>\n",
       "      <td>0.0</td>\n",
       "      <td>0.0</td>\n",
       "      <td>3.600000</td>\n",
       "    </tr>\n",
       "    <tr>\n",
       "      <th>2838785</th>\n",
       "      <td>30.0</td>\n",
       "      <td>0.0</td>\n",
       "      <td>0.0</td>\n",
       "      <td>0.0</td>\n",
       "      <td>0.0</td>\n",
       "      <td>0.0</td>\n",
       "      <td>0.000000</td>\n",
       "    </tr>\n",
       "    <tr>\n",
       "      <th>...</th>\n",
       "      <td>...</td>\n",
       "      <td>...</td>\n",
       "      <td>...</td>\n",
       "      <td>...</td>\n",
       "      <td>...</td>\n",
       "      <td>...</td>\n",
       "      <td>...</td>\n",
       "    </tr>\n",
       "    <tr>\n",
       "      <th>2828314</th>\n",
       "      <td>966.0</td>\n",
       "      <td>853.0</td>\n",
       "      <td>0.0</td>\n",
       "      <td>0.0</td>\n",
       "      <td>0.0</td>\n",
       "      <td>18.0</td>\n",
       "      <td>174.199997</td>\n",
       "    </tr>\n",
       "    <tr>\n",
       "      <th>6608082</th>\n",
       "      <td>1068.0</td>\n",
       "      <td>894.0</td>\n",
       "      <td>0.0</td>\n",
       "      <td>0.0</td>\n",
       "      <td>0.0</td>\n",
       "      <td>0.0</td>\n",
       "      <td>178.800003</td>\n",
       "    </tr>\n",
       "    <tr>\n",
       "      <th>2205995</th>\n",
       "      <td>1071.0</td>\n",
       "      <td>620.0</td>\n",
       "      <td>0.0</td>\n",
       "      <td>0.0</td>\n",
       "      <td>0.0</td>\n",
       "      <td>0.0</td>\n",
       "      <td>124.000000</td>\n",
       "    </tr>\n",
       "    <tr>\n",
       "      <th>3867296</th>\n",
       "      <td>1248.0</td>\n",
       "      <td>49.0</td>\n",
       "      <td>0.0</td>\n",
       "      <td>1154.0</td>\n",
       "      <td>0.0</td>\n",
       "      <td>0.0</td>\n",
       "      <td>240.600006</td>\n",
       "    </tr>\n",
       "    <tr>\n",
       "      <th>172666</th>\n",
       "      <td>1257.0</td>\n",
       "      <td>0.0</td>\n",
       "      <td>0.0</td>\n",
       "      <td>1209.0</td>\n",
       "      <td>0.0</td>\n",
       "      <td>0.0</td>\n",
       "      <td>241.800003</td>\n",
       "    </tr>\n",
       "  </tbody>\n",
       "</table>\n",
       "<p>7557391 rows × 7 columns</p>\n",
       "</div>"
      ],
      "text/plain": [
       "         AirTime     CD   WD    NASD   SD   LAD   MeanDelay\n",
       "799326      30.0    0.0  0.0     0.0  0.0   0.0    0.000000\n",
       "2838763     30.0    0.0  0.0     0.0  0.0   0.0    0.000000\n",
       "2838779     30.0    0.0  0.0     0.0  0.0   0.0    0.000000\n",
       "2838781     30.0    0.0  0.0    18.0  0.0   0.0    3.600000\n",
       "2838785     30.0    0.0  0.0     0.0  0.0   0.0    0.000000\n",
       "...          ...    ...  ...     ...  ...   ...         ...\n",
       "2828314    966.0  853.0  0.0     0.0  0.0  18.0  174.199997\n",
       "6608082   1068.0  894.0  0.0     0.0  0.0   0.0  178.800003\n",
       "2205995   1071.0  620.0  0.0     0.0  0.0   0.0  124.000000\n",
       "3867296   1248.0   49.0  0.0  1154.0  0.0   0.0  240.600006\n",
       "172666    1257.0    0.0  0.0  1209.0  0.0   0.0  241.800003\n",
       "\n",
       "[7557391 rows x 7 columns]"
      ]
     },
     "execution_count": 41,
     "metadata": {},
     "output_type": "execute_result"
    }
   ],
   "source": [
    "df3 = df3.astype('float32')\n",
    "df3"
   ]
  },
  {
   "cell_type": "code",
   "execution_count": 42,
   "metadata": {},
   "outputs": [],
   "source": [
    "# defining a function for polynomial regression (for each delay)\n",
    "def polyreg(data):\n",
    "    poly = PolynomialFeatures(degree = 2) \n",
    "    X_poly = poly.fit_transform(np.array(df3.AirTime).reshape(-1, 1)) \n",
    "\n",
    "    poly.fit(X_poly, np.array(data)) \n",
    "    lin2 = LinearRegression() \n",
    "    lin2.fit(X_poly, np.array(data)) \n",
    "\n",
    "    reg = lin2.predict(poly.fit_transform(np.array(df3.AirTime).reshape(-1, 1)))\n",
    "    scale = (reg*(min(data)-max(data))-max(reg)*min(data)+min(reg)*max(data))/(min(reg)-max(reg))\n",
    "    return scale"
   ]
  },
  {
   "cell_type": "code",
   "execution_count": 43,
   "metadata": {},
   "outputs": [],
   "source": [
    "# inserting every delays in the function \n",
    "lad= polyreg(df3.LAD)\n",
    "wd= polyreg(df3.WD)\n",
    "cd= polyreg(df3.CD)\n",
    "sd= polyreg(df3.SD)\n",
    "nasd= polyreg(df3.NASD)\n",
    "md= polyreg(df3.MeanDelay)"
   ]
  },
  {
   "cell_type": "code",
   "execution_count": 44,
   "metadata": {},
   "outputs": [
    {
     "data": {
      "text/plain": [
       "[<matplotlib.lines.Line2D at 0x22152d67248>]"
      ]
     },
     "execution_count": 44,
     "metadata": {},
     "output_type": "execute_result"
    },
    {
     "data": {
      "image/png": "[encoded data removed]",
      "text/plain": [
       "<Figure size 1440x720 with 1 Axes>"
      ]
     },
     "metadata": {
      "needs_background": "light"
     },
     "output_type": "display_data"
    }
   ],
   "source": [
    "#Define Plot (regression plot for the delays)\n",
    "plt.figure(figsize=(20,10))\n",
    "plt.plot(lad)\n",
    "plt.plot(wd)\n",
    "plt.plot(cd)\n",
    "plt.plot(sd)\n",
    "plt.plot(nasd)\n",
    "plt.plot(md)\n",
    "#plt.plot(df3.AirTime*(len(scaled)/max(exp)),exp)"
   ]
  },
  {
   "cell_type": "markdown",
   "metadata": {},
   "source": [
    "The figure above shows the regression line for each delays with resepect to Air Time. It can be observed that at the end of the dataset there are some outliers for which the regression line has gone up suddenly. It is also observable that the delays are in gerneral acute in those flights where the AirTime is less and delays are decreasing as the AirTime increases. "
   ]
  },
  {
   "cell_type": "code",
   "execution_count": 45,
   "metadata": {},
   "outputs": [
    {
     "data": {
      "text/plain": [
       "[<matplotlib.lines.Line2D at 0x22153104648>]"
      ]
     },
     "execution_count": 45,
     "metadata": {},
     "output_type": "execute_result"
    },
    {
     "data": {
      "image/png": "[encoded data removed]",
      "text/plain": [
       "<Figure size 1440x720 with 1 Axes>"
      ]
     },
     "metadata": {
      "needs_background": "light"
     },
     "output_type": "display_data"
    }
   ],
   "source": [
    "# Define Plot (original Carrier delay vs the regression line for Carrier Delay)\n",
    "plt.figure(figsize=(20,10))\n",
    "plt.plot(cd)\n",
    "plt.plot(df3.AirTime*(len(cd)/max(df3.CD)),df3.CD)"
   ]
  },
  {
   "cell_type": "markdown",
   "metadata": {},
   "source": [
    "The figure shows the comparision between the regression line for carrier delay and carrier delay with respect to the AirTime. It is seen that delays are more acute in the flights where the AirTime is less. For example, the figure for the carrier delay has been shown, but other delays can be compared with regression line as well. "
   ]
  },
  {
   "cell_type": "markdown",
   "metadata": {},
   "source": [
    "Reference \n",
    "1. http://alanpryorjr.com/visualizations/seaborn/countplot/countplot/\n",
    "2. https://etav.github.io/python/count_basic_freq_plot.html\n"
   ]
  }
 ],
 "metadata": {
  "kernelspec": {
   "display_name": "Python 3",
   "language": "python",
   "name": "python3"
  },
  "language_info": {
   "codemirror_mode": {
    "name": "ipython",
    "version": 3
   },
   "file_extension": ".py",
   "mimetype": "text/x-python",
   "name": "python",
   "nbconvert_exporter": "python",
   "pygments_lexer": "ipython3",
   "version": "3.7.6"
  }
 },
 "nbformat": 4,
 "nbformat_minor": 4
}
